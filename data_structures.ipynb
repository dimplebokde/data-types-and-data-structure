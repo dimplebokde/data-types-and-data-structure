{
  "nbformat": 4,
  "nbformat_minor": 0,
  "metadata": {
    "colab": {
      "provenance": []
    },
    "kernelspec": {
      "name": "python3",
      "display_name": "Python 3"
    },
    "language_info": {
      "name": "python"
    }
  },
  "cells": [
    {
      "cell_type": "markdown",
      "source": [
        "1. what are data structures, and why are they important?\n",

        "-> Data structures are specialized formats for organizing, processing, storing, and retrieving data in a computer. They provide a way to manage large amounts of data efficiently and are fundamental to computer science and programming.\n",
        "\n",
        "-> Data structures are essential to computer science as they allow for efficient data management, memory optimization, and algorithm implementation, all of which are crucial for creating effective software solutions.\n",
        "\n",
        "2.  Explain the difference between mutable and immutable data types with examples\n",
        "\n",
        "-> Mutable and immutable data types differ in whether or not their values can be changed after they are created.\n",
        "\n",
        "Mutable Data Types: These are data types whose values can be changed or modified after they are created. This means you can alter the contents of the object without creating a new one.\n",
        "\n",
        "Examples:\n",
        "\n",
        "Lists: You can modify a list by adding, removing, or changing elements\n",
        "\n",
        "\n",
        "\n"
      ],
      "metadata": {
        "id": "QmGXd7S_FqJu"
      }
    },
    {
      "cell_type": "markdown",
      "source": [
        "- Dictionaries: You can add, remove, or update key-value pairs"
      ],
      "metadata": {
        "id": "LaScnn0uKG5D"
      }
    },
    {
      "cell_type": "markdown",
      "source": [
        "-> Immutable Data Types: These are data types whose values cannot be changed after they are created. Once an object is created, any attempt to modify its content will result in an error or the creation of a new object.\n",
        "\n",
        "Examples:\n",
        "\n",
        "- Tuples: Once a tuple is created, its elements cannot be changed."
      ],
      "metadata": {
        "id": "vSXbM6XbLf3Y"
      }
    },
    {
      "cell_type": "markdown",
      "source": [
        "3.What are the main differences between lists and tuples in Python ?                       \n",
        "-> there are various differane is lists and tuples and they are explained below\n",
        "\n",
        "\n",
        "- Tuples are immutable, meaning that once they are created, their content cannot be changed. You cannot add, remove, or modify elements.\n",
        "\n",
        "\n",
        "- Lists are mutable, meaning that you can change their content after they are created. You can add, remove, or modify elements\n",
        "\n",
        "-  Lists are defined using square brackets [ ]\n",
        "\n",
        "-  Tuples are defined using parentheses ().\n",
        "\n",
        "-  Because lists are mutable, they have a bit more overhead in terms of performance. Operations that modify the list can be slower compared to tuples.\n",
        "\n",
        "- Tuples are generally faster than lists for iteration and access because of their immutability. They require less memory and can be optimized by Python.\n",
        "\n",
        "-  Lists have a variety of built-in methods for modifying their contents, such as append(), remove(), pop(), sort(), and reverse().\n",
        "\n",
        "-  Tuples have fewer built-in methods, primarily count() and index(), since they cannot be modified.\n",
        "\n",
        "4. Describe how dictionaries store data\n",
        "-> Dictionaries in Python store data as key-value pairs, where keys are unique and hashable, and values can be of any type. They use a hashing mechanism for efficient data retrieval and support dynamic resizing.\n",
        "\n",
        "5. Why might you use a set instead of a list in Python ?\n",
        "->  i would prefer to selct  to use a set instead of a list in Python because  need to ensure uniqueness, require fast membership testing, want to perform mathematical set operations, or when the order of elements is not important. Sets provide a powerful and efficient way to manage collections of unique items, making them a valuable tool in many programming scenrios.\n",
        "\n",
        "6. What is a string in Python, and how is it different from a list?\n",
        "-> a string is a sequence of characters used to represent text. Strings are one of the built-in data types in Python and are immutable, meaning that once a string is created, it cannot be changed.while a list is a mutable collection of items that can contain elements of various data types.\n",
        "\n",
        "7. How do tuples ensure data integrity in Python?\n",
        "->  tuples ensure data integrity in Python through their immutability, hashability, and fixed structure. They prevent accidental modifications, maintain consistency in data structures, and convey intentionality in data representation. These characteristics make tuples a valuable choice for scenarios where data integrity is a priority.\n",
        "\n",
        "8. What is a hash table, and how does it relate to dictionaries in Python?\n",
        "->A hash table is a data structure that implements an associative array, a structure that can map keys to values. It uses a hash function to compute an index (or hash code) into an array of buckets or slots, from which the desired value can be found. Hash tables are designed to provide efficient insertion, deletion, and lookup operations, typically achieving average time complexity of O(1) for these operations.\n",
        "\n",
        "In Python, dictionaries (dict) are implemented using hash tables. Here’s how they relate:\n",
        "\n",
        "- key-valve pairs\n",
        "- efficiency\n",
        "- hashing machanism\n",
        "- handling collisions\n",
        "- dyanamic reseizing\n",
        "- immutability of keys\n",
        "\n",
        "The use of hash tables allows dictionaries to achieve average-case constant time complexity for common operations, making them a powerful and flexible data structure in Python.\n",
        "\n",
        "9.Can lists contain different data types in Python?\n",
        "\n",
        "-> Yes, lists in Python can contain different data types. This flexibility is one of the key features of Python's list data structure. A single list can hold a mix of integers, floats, strings, booleans, and even other lists or complex objects.\n",
        "\n",
        "10.Explain why strings are immutable in Python?\n",
        "\n",
        "-> strings in Python are immutable for reasons related to memory efficiency, performance optimization, safety, consistency, and ease of use. This immutability provides several advantages, making strings a robust and reliable data type for handling text in Python programming\n",
        "\n",
        "  Here are the key reasons why strings are immutable in Python:\n",
        "\n",
        "- Memory Management: Immutability allows Python to optimize memory usage.\n",
        "- Caching: Immutable objects can be cached and reused, which can speed up operations that involve string manipulation.\n",
        "- Avoiding Side Effects: Immutability helps prevent unintended side effects in programs.\n",
        "- Functional Programming: Immutability aligns well with functional programming principles, where data is treated as immutable and functions return new data rather than modifying existing data.\n",
        "\n",
        "11.What advantages do dictionaries offer over lists for certain tasks?\n",
        "\n",
        "->dictionaries offer significant advantages over lists for tasks that require\n",
        "-  fast lookups\n",
        "- associative mapping\n",
        "-  uniqueness of keys\n",
        "-  and the ability to manage complex data structures.\n",
        " Their dynamic and flexible nature, along with the clarity they provide through descriptive keys, makes dictionaries a powerful tool for many programming scenarios in Python.\n",
        "\n",
        "12.Describe a scenario where using a tuple would be preferable over a list\n",
        "\n",
        "-> A specific scenario to illustrate this:\n",
        "\n",
        "#Scenario: Storing Geographic Coordinates\n",
        "\n",
        "Imagine you are developing a mapping application that needs to store geographic coordinates (latitude and longitude) for various locations. In this case, using a tuple is more appropriate than using a list.\n",
        "In this scenario, using a tuple to store geographic coordinates is preferable because:\n",
        "\n",
        "- Immutability: The coordinates should not change once defined, ensuring data integrity.\n",
        "\n",
        "- Hashability: Tuples can be used as keys in dictionaries, while lists cannot.\n",
        "\n",
        "- Semantic Clarity: Using a tuple clearly indicates that the values are a fixed, related pair.\n",
        "\n",
        "- Overall, tuples are ideal for representing fixed collections of items, such as coordinates, where the data should remain constant and unmodifiable.\n",
        "\n",
        "13. How do sets handle duplicate values in Python?\n",
        "\n",
        "->sets are designed to store unique elements, which means they automatically handle duplicate values by ignoring them.\n",
        "\n",
        "14. How does the “in” keyword work differently for lists and dictionaries?\n",
        "->  the \"in\" keyword works differently for lists and dictionaries in Python. For lists, it checks for the presence of a value among the elements, while for dictionaries, it checks for the presence of a key among the dictionary's keys.\n",
        "\n",
        "15.Can you modify the elements of a tuple? Explain why or why not\n",
        "\n",
        "-> No, we cannot modify the elements of a tuple in Python. Tuples are immutable, which means that once a tuple is created, its contents cannot be changed.\n",
        "\n",
        "16.What is a nested dictionary, and give an example of its use case ?\n",
        "\n",
        "->A nested dictionary in Python is a dictionary that contains other dictionaries as its values.\n",
        "\n",
        "- Use Case for a Nested Dictionary\n",
        "#Scenario: Student Management System\n",
        "\n",
        "\n",
        "In a student management system, you might want to store information about multiple students, including their personal details and academic performance. A nested dictionary is an ideal structure for this purpose because it allows you to group related information together.  \n",
        "\n",
        "17. Describe the time complexity of accessing elements in a dictionary\n",
        "\n",
        "-> The time complexity of accessing elements in a dictionary in Python is generally O(1) on average.\n",
        "\n",
        "18. In what situations are lists preferred over dictionaries?\n",
        "\n",
        "->Here are some situations where lists are preferred over dictionaries:\n",
        "\n",
        "- Ordered Collections\n",
        "- Simple Collections of Items\n",
        "- Dynamic Size\n",
        "-  Iterating Over Elements\n",
        "- Index-Based Access\n",
        "- Stack and Queue Implementations\n",
        "- Simplicity\n",
        "\n",
        ". Lists provide a straightforward and efficient way to manage ordered collections of data, making them a valuable tool in many programming scenarios.\n",
        "\n",
        "\n",
        " 19.Why are dictionaries considered unordered, and how does that affect data retrieval\n",
        "\n",
        " -> Dictionaries in Python are considered unordered because they do not maintain the order in which key-value pairs were added.\n",
        "  \n",
        "  # Impact on Data Retrieval\n",
        "\n",
        "- Key-Based Access: To retrieve a value from a dictionary, you must use the key.\n",
        "- No Order Dependence: Because dictionaries are unordered, you should not rely on the order of key-value pairs when retrieving data.\n",
        "- Efficient Lookups: Despite being unordered, dictionaries provide fast lookups due to their hash table implementation.\n",
        "\n",
        "\n",
        "20.Explain the difference between a list and a dictionary in terms of data retrieval\n",
        "\n",
        "-> the key differences between lists and dictionaries in terms of data retrieval are:\n",
        "\n",
        "- Access Method: Lists use index-based access, while dictionaries use key-based access.\n",
        "\n",
        "- Time Complexity: Accessing elements by index in a list is O(1), but searching by value is O(n). In contrast, accessing values by key in a dictionary is O(1) on average.\n",
        "\n",
        "- Order: Lists maintain the order of elements, while dictionaries are unordered collections (though they maintain insertion order in Python 3.7+).\n",
        "\n",
        "- Use Cases: Lists are suitable for ordered collections, while dictionaries are ideal for key-value associations and fast lookups\n",
        "\n",
        "\n",
        "\n",
        "\n",
        "\n",
        "\n",
        "\n",
        "\n",
        "\n",
        "\n",
        "\n"
      ],
      "metadata": {
        "id": "s-iR7VzZIsOt"
      }
    },
    {
      "cell_type": "markdown",
      "source": [
        "#Pratical Questions"
      ],
      "metadata": {
        "id": "GBY8XuczlPLe"
      }
    },
    {
      "cell_type": "markdown",
      "source": [
        "1.  Write a code to create a string with your name and print it\n",
        "\n"
      ],
      "metadata": {
        "id": "f_XhboR-lXzi"
      }
    },
    {
      "cell_type": "code",
      "source": [
        "name = (\"dimple\")\n",
        "print(\"dimple\")"
      ],
      "metadata": {
        "colab": {
          "base_uri": "https://localhost:8080/"
        },
        "id": "nxcygKsV0eh5",
        "outputId": "a8a7429b-f380-4955-8c8f-b5d799c691ee"
      },
      "execution_count": 1,
      "outputs": [
        {
          "output_type": "stream",
          "name": "stdout",
          "text": [
            "dimple\n"
          ]
        }
      ]
    },
    {
      "cell_type": "markdown",
      "source": [
        "2.Write a code to find the length of the string \"Hello World\""
      ],
      "metadata": {
        "id": "2Pv1_vMX1Ec7"
      }
    },
    {
      "cell_type": "code",
      "source": [
        "string = (\"Hello world\")\n",
        "lenghth =len(string)\n",
        "print(lenghth)"
      ],
      "metadata": {
        "colab": {
          "base_uri": "https://localhost:8080/"
        },
        "id": "gFZKjekl0uo9",
        "outputId": "4d91aa0a-e337-4e01-ed20-d740fb00f105"
      },
      "execution_count": 2,
      "outputs": [
        {
          "output_type": "stream",
          "name": "stdout",
          "text": [
            "11\n"
          ]
        }
      ]
    },
    {
      "cell_type": "markdown",
      "source": [
        "3.Write a code to slice the first 3 characters from the string \"Python Programming"
      ],
      "metadata": {
        "id": "v361Zrey2RaJ"
      }
    },
    {
      "cell_type": "code",
      "source": [
        "string = \"python programming\"\n",
        "sliced_string = string[:3]\n",
        "print(sliced_string)\n",
        "\n"
      ],
      "metadata": {
        "colab": {
          "base_uri": "https://localhost:8080/"
        },
        "id": "NLydz04S2Y67",
        "outputId": "9c20330e-42de-4932-e78e-e8bfc8cd76df"
      },
      "execution_count": 3,
      "outputs": [
        {
          "output_type": "stream",
          "name": "stdout",
          "text": [
            "pyt\n"
          ]
        }
      ]
    },
    {
      "cell_type": "markdown",
      "source": [
        "4.Write a code to convert the string \"hello\" to uppercase"
      ],
      "metadata": {
        "id": "lWu4nyYE3A-L"
      }
    },
    {
      "cell_type": "code",
      "source": [
        "string = \"hello\"\n",
        "uppercase_string = string.upper()\n",
        "print(uppercase_string)"
      ],
      "metadata": {
        "colab": {
          "base_uri": "https://localhost:8080/"
        },
        "id": "DBlbMSzl3Eky",
        "outputId": "0560c573-1485-42dd-982b-0dd95995db22"
      },
      "execution_count": 4,
      "outputs": [
        {
          "output_type": "stream",
          "name": "stdout",
          "text": [
            "HELLO\n"
          ]
        }
      ]
    },
    {
      "cell_type": "markdown",
      "source": [
        "5. Write a code to replace the word \"apple\" with \"orange\" in the string \"I like apple"
      ],
      "metadata": {
        "id": "s36f27wZ4Isj"
      }
    },
    {
      "cell_type": "code",
      "source": [
        "string = \"I like apple\"\n",
        "new_string = string.replace(\"apple\",\"orange\")\n",
        "print(new_string)"
      ],
      "metadata": {
        "colab": {
          "base_uri": "https://localhost:8080/"
        },
        "id": "O3LAgRTN3VPX",
        "outputId": "f884ec82-30c9-4734-bf72-6c12ef6fa855"
      },
      "execution_count": 5,
      "outputs": [
        {
          "output_type": "stream",
          "name": "stdout",
          "text": [
            "I like orange\n"
          ]
        }
      ]
    },
    {
      "cell_type": "markdown",
      "source": [
        "6.Write a code to create a list with numbers 1 to 5 and print it"
      ],
      "metadata": {
        "id": "l93ZwIdQ4i8k"
      }
    },
    {
      "cell_type": "code",
      "source": [
        "numbers = [1,2,3,4,5]\n",
        "print(numbers)"
      ],
      "metadata": {
        "colab": {
          "base_uri": "https://localhost:8080/"
        },
        "id": "uD5WJjxx4gc5",
        "outputId": "f3c77f7c-029f-43f6-e669-0945148b0505"
      },
      "execution_count": 6,
      "outputs": [
        {
          "output_type": "stream",
          "name": "stdout",
          "text": [
            "[1, 2, 3, 4, 5]\n"
          ]
        }
      ]
    },
    {
      "cell_type": "markdown",
      "source": [
        "7.Write a code to append the number 10 to the list [1, 2, 3, 4]\n"
      ],
      "metadata": {
        "id": "tEVIP3IBRrc3"
      }
    },
    {
      "cell_type": "code",
      "source": [
        "numbers = [1,2,3,4]\n",
        "numbers.append(10)\n",
        "print(numbers)"
      ],
      "metadata": {
        "colab": {
          "base_uri": "https://localhost:8080/"
        },
        "id": "thb_pIZp4-BE",
        "outputId": "30ab2362-c9a8-4f85-b689-a970758b8804"
      },
      "execution_count": 1,
      "outputs": [
        {
          "output_type": "stream",
          "name": "stdout",
          "text": [
            "[1, 2, 3, 4, 10]\n"
          ]
        }
      ]
    },
    {
      "cell_type": "markdown",
      "source": [
        "8.Write a code to remove the number 3 from the list [1, 2, 3, 4, 5"
      ],
      "metadata": {
        "id": "TKJWM9wFSaa0"
      }
    },
    {
      "cell_type": "code",
      "source": [
        "numbers = [1,2,3,4,5]\n",
        "numbers.remove(3)\n",
        "print(numbers)"
      ],
      "metadata": {
        "colab": {
          "base_uri": "https://localhost:8080/"
        },
        "id": "OFXPi-w9SdPq",
        "outputId": "4dfa19ec-1c2b-4846-865f-6e0fbffcf645"
      },
      "execution_count": 2,
      "outputs": [
        {
          "output_type": "stream",
          "name": "stdout",
          "text": [
            "[1, 2, 4, 5]\n"
          ]
        }
      ]
    },
    {
      "cell_type": "markdown",
      "source": [
        "9.Write a code to access the second element in the list ['a', 'b', 'c', 'd']"
      ],
      "metadata": {
        "id": "q_A5ygeMSvpT"
      }
    },
    {
      "cell_type": "code",
      "source": [
        "my_list = ['a','b','c','d']\n",
        "second_element = my_list[1]\n",
        "print(second_element)"
      ],
      "metadata": {
        "colab": {
          "base_uri": "https://localhost:8080/"
        },
        "id": "0_9CRkOGSq7j",
        "outputId": "5b3fb767-0386-4919-e0d0-b9ac8934ea96"
      },
      "execution_count": 6,
      "outputs": [
        {
          "output_type": "stream",
          "name": "stdout",
          "text": [
            "b\n"
          ]
        }
      ]
    },
    {
      "cell_type": "markdown",
      "source": [
        "10.Write a code to reverse the list [10, 20, 30, 40, 50].\n"
      ],
      "metadata": {
        "id": "G8M--YNIUVR-"
      }
    },
    {
      "cell_type": "code",
      "source": [
        "numbers = [10,20,30,40,50]\n",
        "reversed_numbers = numbers[::-1]\n",
        "print(reversed_numbers)"
      ],
      "metadata": {
        "colab": {
          "base_uri": "https://localhost:8080/"
        },
        "id": "zCLZ4dHfTZoc",
        "outputId": "cb3fdfd9-21ce-4659-df55-7c306333a5ac"
      },
      "execution_count": 12,
      "outputs": [
        {
          "output_type": "stream",
          "name": "stdout",
          "text": [
            "[50, 40, 30, 20, 10]\n"
          ]
        }
      ]
    },
    {
      "cell_type": "markdown",
      "source": [
        "11.Write a code to create a tuple with the elements 100, 200, 300 and print it"
      ],
      "metadata": {
        "id": "-zV1S9KLVUCm"
      }
    },
    {
      "cell_type": "code",
      "source": [
        "my_tuple = (100,20,300)\n",
        "print(my_tuple)"
      ],
      "metadata": {
        "colab": {
          "base_uri": "https://localhost:8080/"
        },
        "id": "stTTosc7Vebt",
        "outputId": "1e1ddee6-b535-4bd2-9a73-b672a01cf263"
      },
      "execution_count": 13,
      "outputs": [
        {
          "output_type": "stream",
          "name": "stdout",
          "text": [
            "(100, 20, 300)\n"
          ]
        }
      ]
    },
    {
      "cell_type": "markdown",
      "source": [
        "12. Write a code to access the second-to-last element of the tuple ('red', 'green', 'blue', 'yellow')"
      ],
      "metadata": {
        "id": "gYHjnustVv6i"
      }
    },
    {
      "cell_type": "code",
      "source": [
        "my_tuple = ['red','green','blue','yellow']\n",
        "second_to_last_element = my_tuple[-2]\n",
        "print(second_to_last_element)"
      ],
      "metadata": {
        "colab": {
          "base_uri": "https://localhost:8080/"
        },
        "id": "nkQbnaQuVqvn",
        "outputId": "f4e16809-5dc1-45be-c1fc-b77d2e153463"
      },
      "execution_count": 14,
      "outputs": [
        {
          "output_type": "stream",
          "name": "stdout",
          "text": [
            "blue\n"
          ]
        }
      ]
    },
    {
      "cell_type": "markdown",
      "source": [
        "13.Write a code to find the minimum number in the tuple (10, 20, 5, 15)."
      ],
      "metadata": {
        "id": "e5i7sUOtWgcG"
      }
    },
    {
      "cell_type": "code",
      "source": [
        "my_tuple = (10,20,5,15)\n",
        "minimun_number = min(my_tuple)\n",
        "print(minimun_number)\n"
      ],
      "metadata": {
        "colab": {
          "base_uri": "https://localhost:8080/"
        },
        "id": "eeNpKohNWZrl",
        "outputId": "8f8cc639-9e36-4ce3-cf65-1d91f8184caa"
      },
      "execution_count": 15,
      "outputs": [
        {
          "output_type": "stream",
          "name": "stdout",
          "text": [
            "5\n"
          ]
        }
      ]
    },
    {
      "cell_type": "markdown",
      "source": [
        "14. Write a code to find the index of the element \"cat\" in the tuple ('dog', 'cat', 'rabbit')."
      ],
      "metadata": {
        "id": "8bDGRXEdWeya"
      }
    },
    {
      "cell_type": "code",
      "source": [
        "my_tuple = ('dog','cat','rabbit')\n",
        "index_of_cat = my_tuple.index(\"cat\")\n",
        "print(index_of_cat)"
      ],
      "metadata": {
        "colab": {
          "base_uri": "https://localhost:8080/"
        },
        "id": "seRXmwu3XEU6",
        "outputId": "d74a88c1-8f48-45bd-db73-e60b612c7471"
      },
      "execution_count": 17,
      "outputs": [
        {
          "output_type": "stream",
          "name": "stdout",
          "text": [
            "1\n"
          ]
        }
      ]
    },
    {
      "cell_type": "markdown",
      "source": [
        "15.Write a code to create a tuple containing three different fruits and check if \"kiwi\" is in it."
      ],
      "metadata": {
        "id": "qppMYTIFXqQ1"
      }
    },
    {
      "cell_type": "code",
      "source": [
        "fruits = ('apple','banana','orange')\n",
        "is_kiwi_in_tuple = 'kiwi' in fruits\n",
        "print(is_kiwi_in_tuple)"
      ],
      "metadata": {
        "colab": {
          "base_uri": "https://localhost:8080/"
        },
        "id": "UHdGj2d1XaaI",
        "outputId": "38dc62ab-8143-44e9-f13f-baa384ba8427"
      },
      "execution_count": 18,
      "outputs": [
        {
          "output_type": "stream",
          "name": "stdout",
          "text": [
            "False\n"
          ]
        }
      ]
    },
    {
      "cell_type": "markdown",
      "source": [
        "16. Write a code to create a set with the elements 'a', 'b', 'c' and print it."
      ],
      "metadata": {
        "id": "h1U7o86VZyMM"
      }
    },
    {
      "cell_type": "code",
      "source": [
        "my_set = {'a','b','c'}\n",
        "print(my_set)"
      ],
      "metadata": {
        "colab": {
          "base_uri": "https://localhost:8080/"
        },
        "id": "eA9nqbEcYO3f",
        "outputId": "c008ec26-9fe8-41fd-b565-95994c61cc07"
      },
      "execution_count": 25,
      "outputs": [
        {
          "output_type": "stream",
          "name": "stdout",
          "text": [
            "{'b', 'a', 'c'}\n"
          ]
        }
      ]
    },
    {
      "cell_type": "markdown",
      "source": [
        "17. Write a code to clear all elements from the set {1, 2, 3, 4,5}"
      ],
      "metadata": {
        "id": "u0ZOWXjPbLsY"
      }
    },
    {
      "cell_type": "code",
      "source": [
        "my_set = {1,2,3,4,5}\n",
        "my_set.clear()\n",
        "print(my_set)\n"
      ],
      "metadata": {
        "colab": {
          "base_uri": "https://localhost:8080/"
        },
        "id": "8ymwsSLgZxPJ",
        "outputId": "c797d8b0-ee2f-41fd-f4ff-02799a2cf055"
      },
      "execution_count": 26,
      "outputs": [
        {
          "output_type": "stream",
          "name": "stdout",
          "text": [
            "set()\n"
          ]
        }
      ]
    },
    {
      "cell_type": "markdown",
      "source": [
        "18. Write a code to remove the element 4 from the set {1, 2, 3, 4}."
      ],
      "metadata": {
        "id": "QJDNjyEddInN"
      }
    },
    {
      "cell_type": "code",
      "source": [
        "my_set = {1,2,3,4}\n",
        "my_set.remove(4)\n",
        "print(my_set)"
      ],
      "metadata": {
        "colab": {
          "base_uri": "https://localhost:8080/"
        },
        "id": "bFO0bEC6bmzI",
        "outputId": "226c98af-6960-4c52-be9e-6db456c881c6"
      },
      "execution_count": 27,
      "outputs": [
        {
          "output_type": "stream",
          "name": "stdout",
          "text": [
            "{1, 2, 3}\n"
          ]
        }
      ]
    },
    {
      "cell_type": "markdown",
      "source": [
        " 19.Write a code to find the union of two sets {1, 2, 3} and {3, 4, 5}."
      ],
      "metadata": {
        "id": "aUlK5ZHsdoP0"
      }
    },
    {
      "cell_type": "code",
      "source": [
        "set1 = {1,2,3}\n",
        "set2 = {3,4,5}\n",
        "union_set = set1.union(set2)\n",
        "print(union_set)"
      ],
      "metadata": {
        "colab": {
          "base_uri": "https://localhost:8080/"
        },
        "id": "5MAGAZxTdstw",
        "outputId": "38a8e631-5dac-485a-b482-647bebec2dd9"
      },
      "execution_count": 28,
      "outputs": [
        {
          "output_type": "stream",
          "name": "stdout",
          "text": [
            "{1, 2, 3, 4, 5}\n"
          ]
        }
      ]
    },
    {
      "cell_type": "markdown",
      "source": [
        "20.write a code to find the intersection of two sets {1, 2, 3} and {2, 3, 4}."
      ],
      "metadata": {
        "id": "W46rWndgfdPg"
      }
    },
    {
      "cell_type": "code",
      "source": [
        "set1 = {1,2,3}\n",
        "set2 = {2,3,4}\n",
        "intersection_set = set1.intersection(set2)\n",
        "print(intersection_set)\n"
      ],
      "metadata": {
        "colab": {
          "base_uri": "https://localhost:8080/"
        },
        "id": "llkS25Podh2R",
        "outputId": "4298213e-8d0c-402b-c557-e75d29e9bf89"
      },
      "execution_count": 30,
      "outputs": [
        {
          "output_type": "stream",
          "name": "stdout",
          "text": [
            "{2, 3}\n"
          ]
        }
      ]
    },
    {
      "cell_type": "markdown",
      "source": [
        "21.Write a code to create a dictionary with the keys \"name\", \"age\", and \"city\", and print it"
      ],
      "metadata": {
        "id": "5O72tWiFgL-B"
      }
    },
    {
      "cell_type": "code",
      "source": [
        "my_dict = {\n",
        "    \"name\": \"dimple\",\n",
        "         \"age\": 20,\n",
        "         \"city\": \"kalol\"\n",
        "}\n",
        "print(my_dict)"
      ],
      "metadata": {
        "colab": {
          "base_uri": "https://localhost:8080/"
        },
        "id": "PnQIcZZSf_T3",
        "outputId": "2c8f4266-83bb-4e9c-ae7a-721ed72baa61"
      },
      "execution_count": 35,
      "outputs": [
        {
          "output_type": "stream",
          "name": "stdout",
          "text": [
            "{'name': 'dimple', 'age': 20, 'city': 'kalol'}\n"
          ]
        }
      ]
    },
    {
      "cell_type": "markdown",
      "source": [
        "22.Write a code to add a new key-value pair \"country\": \"USA\" to the dictionary {'name': 'John', 'age': 25}."
      ],
      "metadata": {
        "id": "2lMAiVPJhOxD"
      }
    },
    {
      "cell_type": "code",
      "source": [
        "my_dict = {'name': 'John', 'age': 25}\n",
        "my_dict['country'] = 'USA'\n",
        "print(my_dict)"
      ],
      "metadata": {
        "colab": {
          "base_uri": "https://localhost:8080/"
        },
        "id": "x5WEjOrJgnqS",
        "outputId": "ff59a4b4-2890-40b8-c189-d8f369a9037e"
      },
      "execution_count": 37,
      "outputs": [
        {
          "output_type": "stream",
          "name": "stdout",
          "text": [
            "{'name': 'John', 'age': 25, 'country': 'USA'}\n"
          ]
        }
      ]
    },
    {
      "cell_type": "markdown",
      "source": [
        "23.Write a code to access the value associated with the key \"name\" in the dictionary {'name': 'Alice', 'age': 30}"
      ],
      "metadata": {
        "id": "XH8Qo4SAklJq"
      }
    },
    {
      "cell_type": "code",
      "source": [
        "my_dict = {'name': 'Alice','age': 30}\n",
        "name_value = my_dict['name']\n",
        "print(name_value)"
      ],
      "metadata": {
        "colab": {
          "base_uri": "https://localhost:8080/"
        },
        "id": "3H8iI_FRkeNA",
        "outputId": "db8a2e15-13e0-4136-8f49-eceb96d016ca"
      },
      "execution_count": 39,
      "outputs": [
        {
          "output_type": "stream",
          "name": "stdout",
          "text": [
            "Alice\n"
          ]
        }
      ]
    },
    {
      "cell_type": "markdown",
      "source": [
        "24. Write a code to remove the key \"age\" from the dictionary {'name': 'Bob', 'age': 22, 'city': 'New York'}."
      ],
      "metadata": {
        "id": "otPJZVC4lUej"
      }
    },
    {
      "cell_type": "code",
      "source": [
        "my_dict = {'name': 'Bob', 'age': 22, 'city': 'New York'}\n",
        "my_dict.pop('age')\n",
        "print(my_dict)"
      ],
      "metadata": {
        "colab": {
          "base_uri": "https://localhost:8080/"
        },
        "id": "XqjiwV82lQ3u",
        "outputId": "33cdde05-3b3c-4971-e368-e518f59241a7"
      },
      "execution_count": 44,
      "outputs": [
        {
          "output_type": "stream",
          "name": "stdout",
          "text": [
            "{'name': 'Bob', 'city': 'New York'}\n"
          ]
        }
      ]
    },
    {
      "cell_type": "markdown",
      "source": [
        "25. Write a code to check if the key \"city\" exists in the dictionary {'name': 'Alice', 'city': 'Paris'}."
      ],
      "metadata": {
        "id": "5N8MfC58nBgu"
      }
    },
    {
      "cell_type": "code",
      "source": [
        "my_dict = {'name': 'Alice', 'city': 'paris'}\n",
        "key_exists = 'city' in my_dict\n",
        "print(key_exists)"
      ],
      "metadata": {
        "colab": {
          "base_uri": "https://localhost:8080/"
        },
        "id": "StCWcRLhmKFH",
        "outputId": "5233db4d-ec56-431f-a2f0-f2ef1289cc93"
      },
      "execution_count": 2,
      "outputs": [
        {
          "output_type": "stream",
          "name": "stdout",
          "text": [
            "True\n"
          ]
        }
      ]
    },
    {
      "cell_type": "markdown",
      "source": [
        "26.Write a code to create a list, a tuple, and a dictionary, and print them all."
      ],
      "metadata": {
        "id": "pB4Gtd2d6Hq_"
      }
    },
    {
      "cell_type": "code",
      "source": [
        "my_list = [1,2,3,4,5]\n",
        "my_tuple = [10,20,30]\n",
        "my_dict = {'name': 'Alice' , 'age':30, 'city': 'New York'}\n",
        "print(\"list:\", my_list)\n",
        "print(\"Tuple:\", my_tuple)\n",
        "print(\"Dictionary:\", my_dict)"
      ],
      "metadata": {
        "colab": {
          "base_uri": "https://localhost:8080/"
        },
        "id": "Qyb3HAwQ5mQH",
        "outputId": "8c72e24e-33cc-4efd-d1f7-1b5641558a66"
      },
      "execution_count": 3,
      "outputs": [
        {
          "output_type": "stream",
          "name": "stdout",
          "text": [
            "list: [1, 2, 3, 4, 5]\n",
            "Tuple: [10, 20, 30]\n",
            "Dictionary: {'name': 'Alice', 'age': 30, 'city': 'New York'}\n"
          ]
        }
      ]
    },
    {
      "cell_type": "markdown",
      "source": [
        "27.Write a code to create a list of 5 random numbers between 1 and 100, sort it in ascending order, and print the\n",
        "result.(replaced)"
      ],
      "metadata": {
        "id": "qnHNh9SQ7yfv"
      }
    },
    {
      "cell_type": "code",
      "source": [
        "import random\n",
        "random_numbers = [random.randint(1, 100) for _ in range(5)]\n",
        "random_numbers.sort()\n",
        "print(\"Sorted random numbers:\", random_numbers)"
      ],
      "metadata": {
        "colab": {
          "base_uri": "https://localhost:8080/"
        },
        "id": "uuNklwhV7lPT",
        "outputId": "98aae44b-92bc-4083-e64b-3cd8541d6d80"
      },
      "execution_count": 9,
      "outputs": [
        {
          "output_type": "stream",
          "name": "stdout",
          "text": [
            "Sorted random numbers: [21, 47, 57, 72, 91]\n"
          ]
        }
      ]
    },
    {
      "cell_type": "markdown",
      "source": [
        "28.Write a code to create a list with strings and print the element at the third index"
      ],
      "metadata": {
        "id": "thw3DL-s_NSP"
      }
    },
    {
      "cell_type": "code",
      "source": [
        "my_list = [\"sunflower\",\"lotus\",\"jasmine\",\"lilly\",\"rose\"]\n",
        "print(my_list[3])"
      ],
      "metadata": {
        "colab": {
          "base_uri": "https://localhost:8080/"
        },
        "id": "0_5tyPBG9Vw2",
        "outputId": "2f2a6247-c456-4781-8cd9-32f4005ac537"
      },
      "execution_count": 10,
      "outputs": [
        {
          "output_type": "stream",
          "name": "stdout",
          "text": [
            "lilly\n"
          ]
        }
      ]
    },
    {
      "cell_type": "markdown",
      "source": [
        "29. Write a code to combine two dictionaries into one and print the result."
      ],
      "metadata": {
        "id": "4oojqt0PAD9Z"
      }
    },
    {
      "cell_type": "code",
      "source": [
        "my_dict1 = {'name': \"dimple\", 'age':20}\n",
        "my_dict2 = {'city': 'kalol', 'country': 'india'}\n",
        "combined_dict = {**my_dict1, **my_dict2}\n",
        "print(combined_dict)"
      ],
      "metadata": {
        "colab": {
          "base_uri": "https://localhost:8080/"
        },
        "id": "05JjkmKOAezr",
        "outputId": "3bf40364-86cd-4618-f90a-de8428897b20"
      },
      "execution_count": 11,
      "outputs": [
        {
          "output_type": "stream",
          "name": "stdout",
          "text": [
            "{'name': 'dimple', 'age': 20, 'city': 'kalol', 'country': 'india'}\n"
          ]
        }
      ]
    },
    {
      "cell_type": "markdown",
      "source": [
        "30. Write a code to convert a list of strings into a set"
      ],
      "metadata": {
        "id": "IWUXjnToBVfU"
      }
    },
    {
      "cell_type": "code",
      "source": [
        "my_list = {'lion','tiger','zebra','monkey','donkey'}\n",
        "my_set = set(my_list)\n",
        "print(my_set)"
      ],
      "metadata": {
        "colab": {
          "base_uri": "https://localhost:8080/"
        },
        "id": "BX0AflY9_-5i",
        "outputId": "c772dd51-8107-40c8-c73b-bba198630189"
      },
      "execution_count": 12,
      "outputs": [
        {
          "output_type": "stream",
          "name": "stdout",
          "text": [
            "{'monkey', 'lion', 'tiger', 'donkey', 'zebra'}\n"
          ]
        }
      ]
    },
    {
      "cell_type": "code",
      "source": [],
      "metadata": {
        "id": "KqP4BLRaBwGe"
      },
      "execution_count": null,
      "outputs": []
    }
  ]
}
